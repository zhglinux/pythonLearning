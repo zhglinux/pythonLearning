{
 "cells": [
  {
   "cell_type": "code",
   "execution_count": 6,
   "metadata": {
    "collapsed": true
   },
   "outputs": [],
   "source": [
    "#test"
   ]
  },
  {
   "cell_type": "code",
   "execution_count": 3,
   "metadata": {},
   "outputs": [
    {
     "name": "stdout",
     "output_type": "stream",
     "text": [
      "hello world\n"
     ]
    }
   ],
   "source": [
    "print 'hello world'"
   ]
  },
  {
   "cell_type": "code",
   "execution_count": 4,
   "metadata": {},
   "outputs": [
    {
     "name": "stdout",
     "output_type": "stream",
     "text": [
      "[ 1  1  4 12  3  2  1  1  1  1  1  1  1  2]\n",
      "[ 0  1  2  3  4  5  6  7  8  9 10 11 12 13 14]\n",
      "mean = 4.90625\n",
      "median =3.0\n",
      "mode = 3\n",
      "mode < median < mean\n"
     ]
    },
    {
     "data": {
      "image/png": "[encoded data removed]",
      "text/plain": [
       "<matplotlib.figure.Figure at 0x104e24b90>"
      ]
     },
     "metadata": {},
     "output_type": "display_data"
    }
   ],
   "source": [
    "import  matplotlib.pyplot as plt\n",
    "import  numpy as np\n",
    "\n",
    "data =  [0,1,2,2,2,2,3,3,3,3,3,3,3,3,3,3,3,3,4,4,4,5,5,6,7,8,9,10,11,12,13,14];\n",
    "a,b = np.histogram(data,bins=[0,1,2,3,4,5,6,7,8,9,10,11,12,13,14])\n",
    "print a\n",
    "print b\n",
    "print  'mean = '+ str(np.mean(data)) #5.2\n",
    "print  'median ='+ str(np.median(data)) #3.5\n",
    "print  \"mode = 3\"\n",
    "print  'mode < median < mean'\n",
    "plt.hist(data,bins=[0,1,2,3,4,5,6,7,8,9,10,11,12,13,14])\n",
    "plt.show()"
   ]
  }
 ],
 "metadata": {
  "kernelspec": {
   "display_name": "Python 2",
   "language": "python",
   "name": "python2"
  },
  "language_info": {
   "codemirror_mode": {
    "name": "ipython",
    "version": 2.0
   },
   "file_extension": ".py",
   "mimetype": "text/x-python",
   "name": "python",
   "nbconvert_exporter": "python",
   "pygments_lexer": "ipython2",
   "version": "2.7.13"
  }
 },
 "nbformat": 4,
 "nbformat_minor": 0
}